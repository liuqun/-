{
 "cells": [
  {
   "cell_type": "code",
   "execution_count": 1,
   "metadata": {},
   "outputs": [
    {
     "name": "stdout",
     "output_type": "stream",
     "text": [
      "1.23\n"
     ]
    }
   ],
   "source": [
    "import tensorflow as tf\n",
    "\n",
    "a = tf.constant(1.23)\n",
    "with tf.Session() as sess:\n",
    "    result = sess.run(a)\n",
    "print(result)"
   ]
  },
  {
   "cell_type": "code",
   "execution_count": 2,
   "metadata": {},
   "outputs": [
    {
     "name": "stdout",
     "output_type": "stream",
     "text": [
      "INFO:tensorflow:Restoring parameters from 模型/model.ckpt-50\n",
      "第 1 个电器预测:无电器运行\n",
      "第 2 个电器预测:aux电饭煲-开始\n"
     ]
    }
   ],
   "source": [
    "import numpy as np\n",
    "import os\n",
    "from TestMain import model_predict\n",
    "\n",
    "# 模型相关文件存放路径(需修改)\n",
    "path_for_check = \"模型\"\n",
    "\n",
    "# 测试数据(需修改)\n",
    "path_for_test_data = \"测试样本.txt\"\n",
    "\n",
    "# 负荷名称(不需修改)\n",
    "appliance = {0: 'aux电饭煲-开始', 1: 'ipad air2-充电', 2: '吹风机-2档热1档风', 3: '戴尔E6440',\n",
    "             4: '挂烫机-1档', 5: '华为P9Plus充电', 6: '九阳电饭煲-蒸煮', 7: '空调-吹风', 8: '空调-制冷',\n",
    "             9: '联想扬天(台式机 显示器)', 10: '水壶', 11: '无电器运行', 12: '吸尘器'}\n",
    "\n",
    "# 数据输入参数(不需修改)\n",
    "seq_len = 80\n",
    "input_dim = 1\n",
    "\n",
    "# 测试数据加载与转换(不需修改)\n",
    "test_data = np.loadtxt(path_for_test_data)\n",
    "rsp_test_data = np.reshape(test_data, (int(len(test_data) / input_dim), input_dim, seq_len))  # 数据维度处理\n",
    "# 模型预测\n",
    "output_index = model_predict(path_for_check, rsp_test_data)\n",
    "\n",
    "# 结果输出\n",
    "if output_index.any():\n",
    "    for i in range(len(output_index)):\n",
    "        print(\"第\", i + 1, \"个电器预测:\" + appliance[int(output_index[i])])\n",
    "else:\n",
    "    print('预测失败')"
   ]
  }
 ],
 "metadata": {
  "kernelspec": {
   "display_name": "Python 3",
   "language": "python",
   "name": "python3"
  },
  "language_info": {
   "codemirror_mode": {
    "name": "ipython",
    "version": 3
   },
   "file_extension": ".py",
   "mimetype": "text/x-python",
   "name": "python",
   "nbconvert_exporter": "python",
   "pygments_lexer": "ipython3",
   "version": "3.5.2"
  }
 },
 "nbformat": 4,
 "nbformat_minor": 2
}
